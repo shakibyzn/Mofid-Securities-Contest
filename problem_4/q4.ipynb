{
  "nbformat": 4,
  "nbformat_minor": 0,
  "metadata": {
    "colab": {
      "name": "q4.ipynb",
      "provenance": [],
      "collapsed_sections": []
    },
    "kernelspec": {
      "name": "python3",
      "display_name": "Python 3"
    }
  },
  "cells": [
    {
      "cell_type": "code",
      "metadata": {
        "id": "u7ImRuSX4otU"
      },
      "source": [
        "!cp drive/My\\ Drive/natural-language-processing/q4_train.zip ."
      ],
      "execution_count": 1,
      "outputs": []
    },
    {
      "cell_type": "code",
      "metadata": {
        "id": "rgjjIgPz562c",
        "colab": {
          "base_uri": "https://localhost:8080/"
        },
        "outputId": "928f4ae9-f290-4580-fefe-352e2f73a11f"
      },
      "source": [
        "!unzip q4_train.zip"
      ],
      "execution_count": 2,
      "outputs": [
        {
          "output_type": "stream",
          "text": [
            "Archive:  q4_train.zip\n",
            "   creating: train/\n",
            "  inflating: train/train.csv         \n",
            "  inflating: train/test.csv          \n"
          ],
          "name": "stdout"
        }
      ]
    },
    {
      "cell_type": "markdown",
      "metadata": {
        "id": "1hehw_61M0GL"
      },
      "source": [
        "#### Loading dataset"
      ]
    },
    {
      "cell_type": "code",
      "metadata": {
        "id": "ahDNfKlp59xB"
      },
      "source": [
        "import pandas as pd\r\n",
        "import numpy as np"
      ],
      "execution_count": 3,
      "outputs": []
    },
    {
      "cell_type": "code",
      "metadata": {
        "id": "8Os5FCvd6Dla"
      },
      "source": [
        "df_train = pd.read_csv('train/train.csv')\r\n",
        "df_test  = pd.read_csv('train/test.csv')"
      ],
      "execution_count": 4,
      "outputs": []
    },
    {
      "cell_type": "markdown",
      "metadata": {
        "id": "Rp5orb9_M39x"
      },
      "source": [
        "• Five binary variables \r\n",
        "• Ten nominal variables \r\n",
        "• Six ordinal variables \r\n",
        "• Two cyclic variables \r\n",
        "• And a target variable"
      ]
    },
    {
      "cell_type": "code",
      "metadata": {
        "colab": {
          "base_uri": "https://localhost:8080/",
          "height": 249
        },
        "id": "zKYEHPmrLMtL",
        "outputId": "8ad520e9-81cd-446d-9055-9d6fb22bcbdb"
      },
      "source": [
        "df_train.head()"
      ],
      "execution_count": 5,
      "outputs": [
        {
          "output_type": "execute_result",
          "data": {
            "text/html": [
              "<div>\n",
              "<style scoped>\n",
              "    .dataframe tbody tr th:only-of-type {\n",
              "        vertical-align: middle;\n",
              "    }\n",
              "\n",
              "    .dataframe tbody tr th {\n",
              "        vertical-align: top;\n",
              "    }\n",
              "\n",
              "    .dataframe thead th {\n",
              "        text-align: right;\n",
              "    }\n",
              "</style>\n",
              "<table border=\"1\" class=\"dataframe\">\n",
              "  <thead>\n",
              "    <tr style=\"text-align: right;\">\n",
              "      <th></th>\n",
              "      <th>bin_0</th>\n",
              "      <th>bin_1</th>\n",
              "      <th>bin_2</th>\n",
              "      <th>bin_3</th>\n",
              "      <th>bin_4</th>\n",
              "      <th>nom_0</th>\n",
              "      <th>nom_1</th>\n",
              "      <th>nom_2</th>\n",
              "      <th>nom_3</th>\n",
              "      <th>nom_4</th>\n",
              "      <th>nom_5</th>\n",
              "      <th>nom_6</th>\n",
              "      <th>nom_7</th>\n",
              "      <th>nom_8</th>\n",
              "      <th>nom_9</th>\n",
              "      <th>ord_0</th>\n",
              "      <th>ord_1</th>\n",
              "      <th>ord_2</th>\n",
              "      <th>ord_3</th>\n",
              "      <th>ord_4</th>\n",
              "      <th>ord_5</th>\n",
              "      <th>day</th>\n",
              "      <th>month</th>\n",
              "      <th>target</th>\n",
              "    </tr>\n",
              "  </thead>\n",
              "  <tbody>\n",
              "    <tr>\n",
              "      <th>0</th>\n",
              "      <td>0.0</td>\n",
              "      <td>1.0</td>\n",
              "      <td>0.0</td>\n",
              "      <td>F</td>\n",
              "      <td>N</td>\n",
              "      <td>Blue</td>\n",
              "      <td>Circle</td>\n",
              "      <td>Hamster</td>\n",
              "      <td>Costa Rica</td>\n",
              "      <td>Theremin</td>\n",
              "      <td>b165c9589</td>\n",
              "      <td>6fc4f10fb</td>\n",
              "      <td>22a1b223f</td>\n",
              "      <td>1a59581be</td>\n",
              "      <td>e184f0df9</td>\n",
              "      <td>2.0</td>\n",
              "      <td>Master</td>\n",
              "      <td>Freezing</td>\n",
              "      <td>e</td>\n",
              "      <td>N</td>\n",
              "      <td>oh</td>\n",
              "      <td>3.0</td>\n",
              "      <td>5.0</td>\n",
              "      <td>0</td>\n",
              "    </tr>\n",
              "    <tr>\n",
              "      <th>1</th>\n",
              "      <td>1.0</td>\n",
              "      <td>1.0</td>\n",
              "      <td>0.0</td>\n",
              "      <td>F</td>\n",
              "      <td>Y</td>\n",
              "      <td>Blue</td>\n",
              "      <td>Trapezoid</td>\n",
              "      <td>Dog</td>\n",
              "      <td>India</td>\n",
              "      <td>Theremin</td>\n",
              "      <td>0289ab250</td>\n",
              "      <td>c3b174e52</td>\n",
              "      <td>5e17197af</td>\n",
              "      <td>ca9ad1d4b</td>\n",
              "      <td>a91d577f9</td>\n",
              "      <td>1.0</td>\n",
              "      <td>Contributor</td>\n",
              "      <td>Freezing</td>\n",
              "      <td>f</td>\n",
              "      <td>N</td>\n",
              "      <td>Kq</td>\n",
              "      <td>3.0</td>\n",
              "      <td>8.0</td>\n",
              "      <td>0</td>\n",
              "    </tr>\n",
              "    <tr>\n",
              "      <th>2</th>\n",
              "      <td>0.0</td>\n",
              "      <td>0.0</td>\n",
              "      <td>0.0</td>\n",
              "      <td>F</td>\n",
              "      <td>N</td>\n",
              "      <td>Red</td>\n",
              "      <td>Circle</td>\n",
              "      <td>Hamster</td>\n",
              "      <td>India</td>\n",
              "      <td>Bassoon</td>\n",
              "      <td>337a3bd19</td>\n",
              "      <td>c18193dac</td>\n",
              "      <td>56d35c774</td>\n",
              "      <td>32ff72b97</td>\n",
              "      <td>7813e67c3</td>\n",
              "      <td>2.0</td>\n",
              "      <td>NaN</td>\n",
              "      <td>Cold</td>\n",
              "      <td>i</td>\n",
              "      <td>D</td>\n",
              "      <td>Fl</td>\n",
              "      <td>3.0</td>\n",
              "      <td>3.0</td>\n",
              "      <td>0</td>\n",
              "    </tr>\n",
              "    <tr>\n",
              "      <th>3</th>\n",
              "      <td>0.0</td>\n",
              "      <td>0.0</td>\n",
              "      <td>0.0</td>\n",
              "      <td>T</td>\n",
              "      <td>N</td>\n",
              "      <td>Green</td>\n",
              "      <td>Polygon</td>\n",
              "      <td>Hamster</td>\n",
              "      <td>India</td>\n",
              "      <td>Theremin</td>\n",
              "      <td>024efa364</td>\n",
              "      <td>9043b0882</td>\n",
              "      <td>e60e65034</td>\n",
              "      <td>46a005ddf</td>\n",
              "      <td>55fe9a4b8</td>\n",
              "      <td>1.0</td>\n",
              "      <td>Grandmaster</td>\n",
              "      <td>Cold</td>\n",
              "      <td>n</td>\n",
              "      <td>Z</td>\n",
              "      <td>In</td>\n",
              "      <td>7.0</td>\n",
              "      <td>7.0</td>\n",
              "      <td>0</td>\n",
              "    </tr>\n",
              "    <tr>\n",
              "      <th>4</th>\n",
              "      <td>0.0</td>\n",
              "      <td>0.0</td>\n",
              "      <td>0.0</td>\n",
              "      <td>F</td>\n",
              "      <td>N</td>\n",
              "      <td>Blue</td>\n",
              "      <td>Polygon</td>\n",
              "      <td>Axolotl</td>\n",
              "      <td>Costa Rica</td>\n",
              "      <td>Bassoon</td>\n",
              "      <td>7b0da9c0f</td>\n",
              "      <td>7a22f53ea</td>\n",
              "      <td>f74f0b894</td>\n",
              "      <td>NaN</td>\n",
              "      <td>512255ae7</td>\n",
              "      <td>1.0</td>\n",
              "      <td>Expert</td>\n",
              "      <td>Hot</td>\n",
              "      <td>i</td>\n",
              "      <td>X</td>\n",
              "      <td>Sk</td>\n",
              "      <td>5.0</td>\n",
              "      <td>2.0</td>\n",
              "      <td>1</td>\n",
              "    </tr>\n",
              "  </tbody>\n",
              "</table>\n",
              "</div>"
            ],
            "text/plain": [
              "   bin_0  bin_1  bin_2 bin_3 bin_4  nom_0  ... ord_3 ord_4 ord_5  day month target\n",
              "0    0.0    1.0    0.0     F     N   Blue  ...     e     N    oh  3.0   5.0      0\n",
              "1    1.0    1.0    0.0     F     Y   Blue  ...     f     N    Kq  3.0   8.0      0\n",
              "2    0.0    0.0    0.0     F     N    Red  ...     i     D    Fl  3.0   3.0      0\n",
              "3    0.0    0.0    0.0     T     N  Green  ...     n     Z    In  7.0   7.0      0\n",
              "4    0.0    0.0    0.0     F     N   Blue  ...     i     X    Sk  5.0   2.0      1\n",
              "\n",
              "[5 rows x 24 columns]"
            ]
          },
          "metadata": {
            "tags": []
          },
          "execution_count": 5
        }
      ]
    },
    {
      "cell_type": "markdown",
      "metadata": {
        "id": "ebzeTE87LTcZ"
      },
      "source": [
        "#### Nan values\r\n",
        "- All features have nan values"
      ]
    },
    {
      "cell_type": "code",
      "metadata": {
        "colab": {
          "base_uri": "https://localhost:8080/",
          "height": 289
        },
        "id": "tZLiG13rLVT6",
        "outputId": "9181ece2-85b3-4973-debb-db78a3961502"
      },
      "source": [
        "import matplotlib.pyplot as plt\r\n",
        "plt.style.use('ggplot')\r\n",
        "\r\n",
        "pd.DataFrame(df_train[df_train.columns[:-1]].isna().sum()).plot(kind='bar', legend=False);"
      ],
      "execution_count": 23,
      "outputs": [
        {
          "output_type": "display_data",
          "data": {
            "image/png": "[encoded data removed]",
            "text/plain": [
              "<Figure size 432x288 with 1 Axes>"
            ]
          },
          "metadata": {
            "tags": []
          }
        }
      ]
    },
    {
      "cell_type": "markdown",
      "metadata": {
        "id": "RPJHpdXNNF0i"
      },
      "source": [
        "#### Dataset is skewed"
      ]
    },
    {
      "cell_type": "code",
      "metadata": {
        "colab": {
          "base_uri": "https://localhost:8080/",
          "height": 282
        },
        "id": "e8qG7hqDM-FB",
        "outputId": "03b97a34-0e3c-4fc6-d6d0-30308387785c"
      },
      "source": [
        "import seaborn as sns\r\n",
        "\r\n",
        "sns.countplot(x=df_train['target'], data=df_train);"
      ],
      "execution_count": 25,
      "outputs": [
        {
          "output_type": "display_data",
          "data": {
            "image/png": "[encoded data removed]",
            "text/plain": [
              "<Figure size 432x288 with 1 Axes>"
            ]
          },
          "metadata": {
            "tags": []
          }
        }
      ]
    },
    {
      "cell_type": "markdown",
      "metadata": {
        "id": "1jNNS6XmNNYY"
      },
      "source": [
        "#### Feature encoding and Model preparation"
      ]
    },
    {
      "cell_type": "markdown",
      "metadata": {
        "id": "bDsQZKdXSRlA"
      },
      "source": [
        "##### Class weights"
      ]
    },
    {
      "cell_type": "code",
      "metadata": {
        "colab": {
          "base_uri": "https://localhost:8080/"
        },
        "id": "Dlh3YCKqQjL5",
        "outputId": "cce4cb2e-31d2-4d45-f696-ac9f5775ea5e"
      },
      "source": [
        "from sklearn.utils import class_weight\r\n",
        "\r\n",
        "class_weights = class_weight.compute_class_weight('balanced',\r\n",
        "                                                 np.unique(df_train['target']),\r\n",
        "                                                 df_train['target'])\r\n",
        "{0: class_weights[0], 1: class_weights[1]}"
      ],
      "execution_count": 39,
      "outputs": [
        {
          "output_type": "execute_result",
          "data": {
            "text/plain": [
              "{0: 0.6151606338205063, 1: 2.6708807229183824}"
            ]
          },
          "metadata": {
            "tags": []
          },
          "execution_count": 39
        }
      ]
    },
    {
      "cell_type": "markdown",
      "metadata": {
        "id": "TirO2l-DSTMN"
      },
      "source": [
        "##### Model "
      ]
    },
    {
      "cell_type": "code",
      "metadata": {
        "id": "A-U9bED-8M3Y",
        "colab": {
          "base_uri": "https://localhost:8080/"
        },
        "outputId": "68858436-efb5-42f6-91da-b81aab2f6952"
      },
      "source": [
        "from sklearn import metrics \r\n",
        "from sklearn.linear_model import LogisticRegression\r\n",
        "from sklearn import preprocessing\r\n",
        "from warnings import filterwarnings\r\n",
        "filterwarnings('ignore')\r\n",
        "\r\n",
        "def run(df_train, df_test):\r\n",
        "\r\n",
        "  # filling nan values fill NONE -> to have a new value in all features\r\n",
        "  features = [ft for ft in df_train.columns if ft not in ['target']]\r\n",
        "  for col in features:\r\n",
        "    df_train.loc[:,col] = df_train[col].astype(str).fillna('NONE')\r\n",
        "    df_test.loc[:,col]  = df_test[col].astype(str).fillna('NONE')\r\n",
        "\r\n",
        "  # one-hot encoding all the features\r\n",
        "  ohe = preprocessing.OneHotEncoder()\r\n",
        "  full_data = pd.concat([df_train, df_test], axis=0)\r\n",
        "  ohe.fit(full_data[features])\r\n",
        "\r\n",
        "  x_train = ohe.transform(df_train[features])\r\n",
        "  x_test  = ohe.transform(df_test[features])\r\n",
        "\r\n",
        "  # Start with a simple model -> Logistic Regression\r\n",
        "  model = LogisticRegression(class_weight={0: class_weights[0], 1: class_weights[1]})\r\n",
        "  model.fit(x_train, df_train['target'].values)\r\n",
        "\r\n",
        "  # Prediction\r\n",
        "  train_preds = model.predict_proba(x_train)[:,1]\r\n",
        "  test_preds = model.predict_proba(x_test)\r\n",
        "\r\n",
        "  # ROC AUC score\r\n",
        "  auc = metrics.roc_auc_score(df_train['target'].values, train_preds)\r\n",
        "  print(f'AUC score on training set: {auc:.2f}')\r\n",
        "\r\n",
        "  return test_preds\r\n",
        "\r\n",
        "test_pred = run(df_train, df_test)"
      ],
      "execution_count": 46,
      "outputs": [
        {
          "output_type": "stream",
          "text": [
            "AUC score on training set: 0.80\n"
          ],
          "name": "stdout"
        }
      ]
    },
    {
      "cell_type": "markdown",
      "metadata": {
        "id": "o867z8IBSD6f"
      },
      "source": [
        "#### Submission"
      ]
    },
    {
      "cell_type": "code",
      "metadata": {
        "id": "wssa5rNqCVrb"
      },
      "source": [
        "d = pd.DataFrame(test_pred[:,1], columns=['Target'])\r\n",
        "d.to_csv('submission.csv', index=False)\r\n",
        "\r\n",
        "# will score 128 out of 160 "
      ],
      "execution_count": 45,
      "outputs": []
    }
  ]
}